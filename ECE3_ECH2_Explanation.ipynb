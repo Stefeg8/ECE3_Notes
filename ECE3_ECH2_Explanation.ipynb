{
 "cells": [
  {
   "cell_type": "markdown",
   "metadata": {
    "id": "XJcXzC1IYiDX"
   },
   "source": [
    "# ECE 3 : Extra Credit Homework 2: Clustering with K-means"
   ]
  },
  {
   "cell_type": "markdown",
   "metadata": {
    "id": "TUU2mXLwYe29"
   },
   "source": [
    "## Instructions\n",
    "\n",
    "- Rename this jupyter notebook by adding your name and permid: e.g. `ECE3_ECH2_firstname_lastname_permid.ipynb`.\n",
    "- Provide your coding responses by directly editing your notebook.\n",
    "- Make sure that the coding portions run without errors.\n",
    "- You can also upload this file to Google Colab and edit it there instead of using Jupyter Notebook locally. Doing this may avoid some issues with importing libraries.\n",
    "- IMPORTANT: You also need to upload a video recording of yourself explaining how your Python code each step works. You can use zoom recording or explain on a white board or screen capture or record with your phone while showing your code your the laptop. The video should be between 5 and 15 minutes. If you encounter a problem uploading your video to Canvas due to the file size, upload it to a shared storage platform and add the URL to this notebook. Make sure to share the uploaded file(s) with the instructor: yaslandogan@ucsb.edu."
   ]
  },
  {
   "cell_type": "markdown",
   "metadata": {
    "id": "k_6HcvSUj9xb"
   },
   "source": [
    "## Problem: Clustering with k-means algorithm\n",
    "\n",
    "\n"
   ]
  },
  {
   "cell_type": "markdown",
   "metadata": {
    "id": "6NEc2O_joHez"
   },
   "source": [
    "For this exercise we will use the \"Digits\" dataset from the scikit-learn package. \n",
    "\n",
    "The following chunk of code loads the dataset and prints a full description of it. Run it and carefully go through the description.\n"
   ]
  },
  {
   "cell_type": "code",
   "execution_count": 2,
   "metadata": {
    "colab": {
     "base_uri": "https://localhost:8080/"
    },
    "id": "EAnbXz7_n8GK",
    "outputId": "a23967e0-d9a5-41b5-b172-c387f0b2819f"
   },
   "outputs": [
    {
     "name": "stdout",
     "output_type": "stream",
     "text": [
      ".. _digits_dataset:\n",
      "\n",
      "Optical recognition of handwritten digits dataset\n",
      "--------------------------------------------------\n",
      "\n",
      "**Data Set Characteristics:**\n",
      "\n",
      ":Number of Instances: 1797\n",
      ":Number of Attributes: 64\n",
      ":Attribute Information: 8x8 image of integer pixels in the range 0..16.\n",
      ":Missing Attribute Values: None\n",
      ":Creator: E. Alpaydin (alpaydin '@' boun.edu.tr)\n",
      ":Date: July; 1998\n",
      "\n",
      "This is a copy of the test set of the UCI ML hand-written digits datasets\n",
      "https://archive.ics.uci.edu/ml/datasets/Optical+Recognition+of+Handwritten+Digits\n",
      "\n",
      "The data set contains images of hand-written digits: 10 classes where\n",
      "each class refers to a digit.\n",
      "\n",
      "Preprocessing programs made available by NIST were used to extract\n",
      "normalized bitmaps of handwritten digits from a preprinted form. From a\n",
      "total of 43 people, 30 contributed to the training set and different 13\n",
      "to the test set. 32x32 bitmaps are divided into nonoverlapping blocks of\n",
      "4x4 and the number of on pixels are counted in each block. This generates\n",
      "an input matrix of 8x8 where each element is an integer in the range\n",
      "0..16. This reduces dimensionality and gives invariance to small\n",
      "distortions.\n",
      "\n",
      "For info on NIST preprocessing routines, see M. D. Garris, J. L. Blue, G.\n",
      "T. Candela, D. L. Dimmick, J. Geist, P. J. Grother, S. A. Janet, and C.\n",
      "L. Wilson, NIST Form-Based Handprint Recognition System, NISTIR 5469,\n",
      "1994.\n",
      "\n",
      ".. dropdown:: References\n",
      "\n",
      "  - C. Kaynak (1995) Methods of Combining Multiple Classifiers and Their\n",
      "    Applications to Handwritten Digit Recognition, MSc Thesis, Institute of\n",
      "    Graduate Studies in Science and Engineering, Bogazici University.\n",
      "  - E. Alpaydin, C. Kaynak (1998) Cascading Classifiers, Kybernetika.\n",
      "  - Ken Tang and Ponnuthurai N. Suganthan and Xi Yao and A. Kai Qin.\n",
      "    Linear dimensionalityreduction using relevance weighted LDA. School of\n",
      "    Electrical and Electronic Engineering Nanyang Technological University.\n",
      "    2005.\n",
      "  - Claudio Gentile. A New Approximate Maximal Margin Classification\n",
      "    Algorithm. NIPS. 2000.\n",
      "\n"
     ]
    }
   ],
   "source": [
    "import numpy as np\n",
    "from sklearn.datasets import load_digits\n",
    "\n",
    "dataset = load_digits()\n",
    "print(dataset.DESCR)"
   ]
  },
  {
   "cell_type": "markdown",
   "metadata": {
    "id": "PR4yx9Mpor_8"
   },
   "source": [
    "#### (a) The dataset contains 1797 images of handwritten digits (the description says that the number of instances is 5620 but that's a mistake). Each image has resolution 8x8 pixels. Here the images have been reshaped to vectors of size 64x1. Confirm this by running the following chunk of code."
   ]
  },
  {
   "cell_type": "code",
   "execution_count": null,
   "metadata": {
    "colab": {
     "base_uri": "https://localhost:8080/"
    },
    "id": "MroaPJTnoUlo",
    "outputId": "15abc623-9ba6-4756-9940-37ff87f35016"
   },
   "outputs": [
    {
     "name": "stdout",
     "output_type": "stream",
     "text": [
      "The images are inlcuded in a matrix of shape: (1797, 64)\n",
      "The labels are included in a vector of length: (1797,)\n"
     ]
    }
   ],
   "source": [
    "X = dataset['data'] # We initialize X with the NumPy array of data that corresponds to the data label in the dataset dictionary\n",
    "# There are 1797 images and they are each in a 64x1 vector. This vector contains the intensity of each of the 64 pixels as each item in the vector\n",
    "# with a value between 0 and 16. In our case, we use 0 as white and 16 as black because we will plot in reverse grayscale.\n",
    "y = dataset['target'] # We initialize y with the labels or \"target\" that correspond to the numbers 0-9 because each item in the data corresponds\n",
    "# to one of the 10 digits\n",
    "\n",
    "print(\"The images are inlcuded in a matrix of shape:\", X.shape) # we then print the shape of the x matrix\n",
    "print(\"The labels are included in a vector of length:\", y.shape) # and then the shape of the y matrix"
   ]
  },
  {
   "cell_type": "markdown",
   "metadata": {
    "id": "AT1q6ua5MZx5"
   },
   "source": [
    "#### (b) Let's take a look at our data and labels, display the 11th and the 231th images and their respective labels:"
   ]
  },
  {
   "cell_type": "code",
   "execution_count": null,
   "metadata": {
    "id": "KvxF5luAMZMf"
   },
   "outputs": [
    {
     "name": "stdout",
     "output_type": "stream",
     "text": [
      "The 11th image is one of digit 0:\n"
     ]
    },
    {
     "data": {
      "image/png": "[encoded data removed]",
      "text/plain": [
       "<Figure size 300x300 with 1 Axes>"
      ]
     },
     "metadata": {},
     "output_type": "display_data"
    },
    {
     "name": "stdout",
     "output_type": "stream",
     "text": [
      "The 231th image is one of digit 5:\n"
     ]
    },
    {
     "data": {
      "image/png": "[encoded data removed]",
      "text/plain": [
       "<Figure size 640x480 with 1 Axes>"
      ]
     },
     "metadata": {},
     "output_type": "display_data"
    }
   ],
   "source": [
    "import matplotlib.pyplot as plt # import matplotlib\n",
    "\n",
    "# Display the first digit\n",
    "plt.figure(1, figsize=(3, 3)) # We create a figure of size 3x3 so that we have a standard size figure for the images\n",
    "\n",
    "# we have saved the images as 64x1 vectors, for the purpose of plotting we will\n",
    "# convert them to size 8x8. For the rest of the questions just use array X\n",
    "images = X.reshape(-1, 8, 8) # reshape will reshape the images from 64x1 to 8x8. the parameter -1 will take all images that are available. \n",
    "# The next 2 parameters are the height and width of the image\n",
    "\n",
    "print('The 11th image is one of digit {}:'.format(y[10])) # this line will simply take the 11th image's label\n",
    "plt.imshow(images[10], cmap=plt.cm.gray_r, interpolation='nearest') # This line will take the 11th image and plot it on the figure. It uses\n",
    "# the cmap parameter to specify that we want to plot in grayscale. The r parameter means that we plot in reverse grayscale meaning that\n",
    "# numbers in our vector wiith lower intensity will be lighter and darker areas will correspond to the higher intensity values. the interpolation\n",
    "# set as nearest means that based on the intensity value of the pixel in the data array, it will take the closest value in the grayscale color\n",
    "# spectrum to plot that pixel. for example, while 0 will be white and 16 will be black, 13 will be some darker shade of gray. \n",
    "plt.show() # this just shows the plot lol\n",
    "\n",
    "print('The 231th image is one of digit {}:'.format(y[230])) # this line will simply take the 231th image's label\n",
    "plt.imshow(images[230], cmap=plt.cm.gray_r, interpolation='nearest') # This line will take the 231th image and plot it on the figure. \n",
    "# This second image will be plotted in the same style as the first.\n",
    "plt.show()"
   ]
  },
  {
   "cell_type": "markdown",
   "metadata": {
    "id": "g8fAJ8jfqOGg"
   },
   "source": [
    "In this exercise we will ignore the existence of the labels and we will assign our images to different clusters based only on the images themselves.\n",
    "\n",
    "This is called **clustering** and it's an **unsupervised** learning task, as it's done with no knowledge of the true labels. In contrast, both **classification** and **regression** are **supervised** learning tasks, as to train our models we need to know the true labels/response variable of the training data."
   ]
  },
  {
   "cell_type": "markdown",
   "metadata": {
    "id": "J2BbFGhJtKUJ"
   },
   "source": [
    "### The K-means algorithm\n",
    "\n",
    "k-means is an algorithm that performs clustering. k is a parameter that indicates the number of clusters. After we choose what k to run the algorithm for, the algorithm proceeds as follows:\n",
    "\n",
    "1.  We pick k points from the dataset at random. We call these points the \"centroids\" or the \"representatives \"of the clusters.\n",
    "2.  For each point in the dataset we calculate its distance to the k centroids and we assign to the cluster with the closest centroid.\n",
    "3. For each cluster, we calculate a new centroid as the mean of its points. These new centroids don't have to belong to the dataset.\n",
    "4. We repeat steps 2 & 3 until the centroid positions don't change.\n",
    "\n",
    "In our example, we know that we're dealing with digits so we will set k=10."
   ]
  },
  {
   "cell_type": "markdown",
   "metadata": {
    "id": "OpTymyvmySjt"
   },
   "source": [
    "#### (c) Use sklearn's KMeans class to perform K-means clustering on the digits dataset. Store the result in a NumPy vector."
   ]
  },
  {
   "cell_type": "code",
   "execution_count": null,
   "metadata": {
    "id": "dOQszRx7qNjd"
   },
   "outputs": [],
   "source": [
    "from sklearn.cluster import KMeans # we import KMeans from sklearn\n",
    "\n",
    "# Type your solution below\n",
    "\n",
    "kmeans = KMeans(n_clusters=10, random_state=0) # We create a KMeans object with 10 clusters because we have 10 digits, we set k or the n_clusters parameter to 10. We also set the random\n",
    "# state parameter to 0 because we want to ensure we have the same seed every time we run this code so that the random initialization is the same\n",
    "# This means the centroids will always be the same\n",
    "kmeans.fit(X) # This line will then fit every data point to the nearest centroid and the centroids will be updated based on the points assigned\n",
    "# This means that they will slowly become the mean of all the points assigned. The coordinates of the centroids will then be saved after\n",
    "# the function finishes\n",
    "y_pred = kmeans.predict(X) # This will predict the labels for each data point based on the centroids that have been updated and save those \n",
    "# predictions to the y_pred vector. This function calculates the distance to each centroid and assigns each point to the closest centroid"
   ]
  },
  {
   "cell_type": "markdown",
   "metadata": {
    "id": "uFRPUAvE2SMH"
   },
   "source": [
    "### Clustering performance metrics\n",
    "\n",
    "After performing clustering, you have assigned a label to each point in the dataset. However, this isn't necessarily the same label as the true label. Here for example, you may have correctly grouped all zeros to the same cluster but assigned this cluster the label 5. Thus, accuracy (as it was defined in Problem 1) it's not an informative metric for the performance of clustering algorithms.\n",
    "\n",
    "An appropriate metric for clustering performance is the **Adjusted Rand index**, which is a function that measures the similarity between the true and the predicted label assignments, ignoring permutations."
   ]
  },
  {
   "cell_type": "markdown",
   "metadata": {
    "id": "8r6wwj--qM_U"
   },
   "source": [
    "#### (d) Calculate the algorithm's adjusted rand index using sklearn's built-in method and print out the result."
   ]
  },
  {
   "cell_type": "code",
   "execution_count": null,
   "metadata": {
    "id": "hKON7VVLseKw"
   },
   "outputs": [
    {
     "name": "stdout",
     "output_type": "stream",
     "text": [
      "0.6153537727935613\n"
     ]
    }
   ],
   "source": [
    "from sklearn.metrics import adjusted_rand_score # this imports the adjusted rand index from sklearn\n",
    "\n",
    "# type your solution below\n",
    "\n",
    "ari = adjusted_rand_score(y, y_pred) # using the adjusted rand score function, we calculate the adjusted rand index between the true labels\n",
    "# and the predicted labels that we calculated using kmeans.predict.y was the true labels that we initialized back in part a and y_pred was the\n",
    "# vector that contained our predictions from part c.\n",
    "print(ari) # we print our adjusted rand index"
   ]
  }
 ],
 "metadata": {
  "colab": {
   "collapsed_sections": [
    "TUU2mXLwYe29"
   ],
   "name": "ECE3_HW3.ipynb",
   "provenance": []
  },
  "kernelspec": {
   "display_name": "Chat_Bot",
   "language": "python",
   "name": "python3"
  },
  "language_info": {
   "codemirror_mode": {
    "name": "ipython",
    "version": 3
   },
   "file_extension": ".py",
   "mimetype": "text/x-python",
   "name": "python",
   "nbconvert_exporter": "python",
   "pygments_lexer": "ipython3",
   "version": "3.11.9"
  }
 },
 "nbformat": 4,
 "nbformat_minor": 0
}
