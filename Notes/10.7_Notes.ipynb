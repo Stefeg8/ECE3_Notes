{
 "cells": [
  {
   "cell_type": "markdown",
   "metadata": {},
   "source": [
    "10/21 Notes\n"
   ]
  },
  {
   "cell_type": "code",
   "execution_count": null,
   "metadata": {},
   "outputs": [],
   "source": [
    "import math\n",
    "\n",
    "class Circle:\n",
    "\n",
    "    \n",
    "    def __init__(self, radius=1):\n",
    "        self.radius = radius\n",
    "\n",
    "    def getPerimeter(self):\n",
    "        perimeterOfThisCircle = 2 * self.radius * math.pi\n",
    "        return perimeterOfThisCircle\n",
    "    \n",
    "    def getArea(self):\n",
    "        return self.radius * self.radius * math.pi\n",
    "\n",
    "    def setRadius(self, radius):\n",
    "        self.radius = radius\n",
    "        \n"
   ]
  }
 ],
 "metadata": {
  "language_info": {
   "name": "python"
  }
 },
 "nbformat": 4,
 "nbformat_minor": 2
}
