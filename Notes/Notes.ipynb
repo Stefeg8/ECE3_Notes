{
 "cells": [
  {
   "cell_type": "markdown",
   "metadata": {},
   "source": [
    "10/21 Notes - OOP\n"
   ]
  },
  {
   "cell_type": "code",
   "execution_count": 4,
   "metadata": {},
   "outputs": [
    {
     "name": "stdout",
     "output_type": "stream",
     "text": [
      "62.83185307179586\n",
      "314.1592653589793\n",
      "10\n"
     ]
    },
    {
     "ename": "AttributeError",
     "evalue": "'Circle' object has no attribute '__radius'",
     "output_type": "error",
     "traceback": [
      "\u001b[0;31m---------------------------------------------------------------------------\u001b[0m",
      "\u001b[0;31mAttributeError\u001b[0m                            Traceback (most recent call last)",
      "Cell \u001b[0;32mIn[4], line 49\u001b[0m\n\u001b[1;32m     47\u001b[0m     \u001b[38;5;28mprint\u001b[39m(circle1\u001b[38;5;241m.\u001b[39mradius)\n\u001b[1;32m     48\u001b[0m     \u001b[38;5;28mprint\u001b[39m(circle1\u001b[38;5;241m.\u001b[39m__radius)\n\u001b[0;32m---> 49\u001b[0m \u001b[43mmain\u001b[49m\u001b[43m(\u001b[49m\u001b[43m)\u001b[49m\n",
      "Cell \u001b[0;32mIn[4], line 48\u001b[0m, in \u001b[0;36mmain\u001b[0;34m()\u001b[0m\n\u001b[1;32m     46\u001b[0m \u001b[38;5;28mprint\u001b[39m(circle1\u001b[38;5;241m.\u001b[39mgetArea())\n\u001b[1;32m     47\u001b[0m \u001b[38;5;28mprint\u001b[39m(circle1\u001b[38;5;241m.\u001b[39mradius)\n\u001b[0;32m---> 48\u001b[0m \u001b[38;5;28mprint\u001b[39m(\u001b[43mcircle1\u001b[49m\u001b[38;5;241;43m.\u001b[39;49m\u001b[43m__radius\u001b[49m)\n",
      "\u001b[0;31mAttributeError\u001b[0m: 'Circle' object has no attribute '__radius'"
     ]
    }
   ],
   "source": [
    "import math\n",
    "\n",
    "# Classes can be used to create objects \n",
    "# in this example, we use the circle class to create a circle class\n",
    "# See below for how to call this class\n",
    "class Circle:\n",
    "\n",
    "    # constructor method\n",
    "    # The constructor method is responsible for initializing the attributes of the class/object\n",
    "    # Here, we create a circle object with radius set to the user input\n",
    "    def __init__(self, radius=1):\n",
    "        # We use the self keyword to define this radius as the radius of the circle object that we just created\n",
    "        # You wouldn't want to do radius = radius because then the radius of the circle object wouldn't be defined\n",
    "        self.radius = radius # This is a public variable that can be accessed from outside the class\n",
    "        self.__radius = radius # This is a private variable that cannot be accessed from outside the class. Private properties are prefixed with \"__\"\n",
    "                               # For the self.__radius variable this is denoted by the double underscore right after the \"self.\"\n",
    "                               # This is useful if you want to create a variable that is used for calculations in the class or other stuff idfk\n",
    "    # instance method\n",
    "    def getRadius(self):\n",
    "        return self.radius  \n",
    "\n",
    "    # instance method\n",
    "    # This method gets the perimeter of the circle\n",
    "    # The self.radius variable is stored in the circle object that you created\n",
    "    def getPerimeter(self):\n",
    "        perimeterOfThisCircle = 2 * self.radius * math.pi\n",
    "        return perimeterOfThisCircle\n",
    "\n",
    "    # instance method\n",
    "    def getArea(self):\n",
    "        return self.radius * self.radius * math.pi\n",
    "\n",
    "    # instance method\n",
    "    # you can use this to change the value of the radius\n",
    "    def setRadius(self, radius):\n",
    "        # Here you must do self.radius because self.radius is the radius of the circle object\n",
    "        self.radius = radius\n",
    "        \n",
    "from Circle import Circle\n",
    "\n",
    "def main():\n",
    "    # create a circle object with radius 10 and get its perimeter and area\n",
    "    circle1 = Circle() # This initializes the circle object and your circle object is called \"circle1\"\n",
    "    circle1.setRadius(10) # You call the setRadius method to change the radius of the circle\n",
    "    print(circle1.getPerimeter()) # This will call the getPerimeter method\n",
    "    print(circle1.getArea()) # This will call the getArea method\n",
    "    print(circle1.radius) # This will return the radius of the circle object\n",
    "    print(circle1.__radius) # You can't get the private variable from outside the class\n",
    "\n",
    "main()\n"
   ]
  }
 ],
 "metadata": {
  "kernelspec": {
   "display_name": "Chat_Bot",
   "language": "python",
   "name": "python3"
  },
  "language_info": {
   "codemirror_mode": {
    "name": "ipython",
    "version": 3
   },
   "file_extension": ".py",
   "mimetype": "text/x-python",
   "name": "python",
   "nbconvert_exporter": "python",
   "pygments_lexer": "ipython3",
   "version": "3.11.9"
  }
 },
 "nbformat": 4,
 "nbformat_minor": 2
}
