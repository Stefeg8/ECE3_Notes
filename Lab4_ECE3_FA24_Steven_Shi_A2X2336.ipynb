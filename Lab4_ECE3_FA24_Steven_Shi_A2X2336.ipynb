{
  "cells": [
    {
      "cell_type": "markdown",
      "metadata": {
        "id": "qiEY2KX6P9-D"
      },
      "source": [
        "# Lab 4\n",
        "### Due by 11:59pm, Sunday, November 3rd.\n",
        "#### Submission: Please replace firstname, lastname and permid in the file name with yours before submitting on Canvas.\n",
        "### Instructions\n",
        "Please follow the instructions below on the format of the answers. As we are using an autograder, lack of compliance to these conventions might result in a loss of grade. Contact the TAs or the instructor for assistance if needed.\n",
        "\n",
        "---\n",
        "For Multiple Choice Questions, your answers should be formatted as follows:\n",
        "```python\n",
        "def ans_q1():\n",
        "  return 'C' # if the C is the selected option\n",
        "  # Please only add the option and nothing more.\n",
        "```\n",
        "\n",
        "## Grading\n",
        "Multiple Choice Questions: 10% each. Programming Questions: 25% each."
      ]
    },
    {
      "cell_type": "markdown",
      "metadata": {
        "id": "sLjWJGK-b9y2"
      },
      "source": [
        "Lab Section ID: (Enter your lab section below)"
      ]
    },
    {
      "cell_type": "markdown",
      "metadata": {
        "id": "JDP8bfcBcMBE"
      },
      "source": []
    },
    {
      "cell_type": "markdown",
      "metadata": {
        "id": "TJho0p-BgT6I"
      },
      "source": [
        "### Multiple Choice Questions (MCQs):\n",
        "\n",
        "Q1. What is the main purpose of a constructor (`__init__`) in Python\n",
        "   \n",
        "   A. To print a message when the object is created.\n",
        "   \n",
        "   \n",
        "   B. To initialize the attributes of the object.\n",
        "   \n",
        "   C. To call other methods inside the class.\n",
        "   \n",
        "   D. To destroy an object when it’s no longer needed.\n",
        "\n",
        "\n",
        "\n",
        "\n",
        "\n"
      ]
    },
    {
      "cell_type": "code",
      "execution_count": null,
      "metadata": {
        "id": "LA4ZJADOic95"
      },
      "outputs": [],
      "source": [
        "def ans_q1():\n",
        "  return 'B'"
      ]
    },
    {
      "cell_type": "markdown",
      "metadata": {
        "id": "yfsit_HYicbf"
      },
      "source": [
        "Q2. Which of the following features existed **BEFORE** the introduction of Object-Oriented Programming (OOP)?\n",
        "  \n",
        "  A. Inheritance\n",
        "   \n",
        "  B. Polymorphism\n",
        "   \n",
        "  C. Recursion\n",
        "   \n",
        "  D. Encapsulation\n"
      ]
    },
    {
      "cell_type": "code",
      "execution_count": null,
      "metadata": {
        "id": "V8GyVR2riRi6"
      },
      "outputs": [],
      "source": [
        "def ans_q2():\n",
        "  return 'C'"
      ]
    },
    {
      "cell_type": "markdown",
      "metadata": {
        "id": "eUsmB_zjiM2_"
      },
      "source": [
        "Q3. Which of the following is not an assert methods supported by Unittest framework?\n",
        "\n",
        "A. assertEqual().\n",
        "\n",
        "B. assertEmpty().\n",
        "\n",
        "C. assertIn().\n",
        "\n",
        "D. assertGreater()"
      ]
    },
    {
      "cell_type": "code",
      "execution_count": null,
      "metadata": {
        "id": "-EmusubBiNUs"
      },
      "outputs": [],
      "source": [
        "def ans_q3()\n",
        "  return 'B'"
      ]
    },
    {
      "cell_type": "markdown",
      "metadata": {
        "id": "4Syp3ZEcBmqm"
      },
      "source": [
        "Q4. What is the purpose of the ```python\n",
        "__str__\n",
        "```\n",
        "method in a Python class?\n",
        "\n",
        "A. It is used to return an informal string representation of an object which can be used by print() or str().\n",
        "\n",
        "B. It calculates and returns the string length of an object.\n",
        "\n",
        "C. It is used to store multiple string values within an object.\n",
        "\n",
        "D. It performs string concatenation automatically within an object."
      ]
    },
    {
      "cell_type": "code",
      "execution_count": null,
      "metadata": {
        "id": "QIydHN52CC3V"
      },
      "outputs": [],
      "source": [
        "def ans_q4():\n",
        "  return 'A'"
      ]
    },
    {
      "cell_type": "markdown",
      "metadata": {
        "id": "coVhfPvPPYPm"
      },
      "source": [
        "Q5. What happens if a method is defined with the same name in both a parent class and a child class in Python?\n",
        "\n",
        "A. The parent class method is always called.\n",
        "\n",
        "B. The child class method overrides the parent class method.\n",
        "\n",
        "C. An error is raised due to name conflict.\n",
        "\n",
        "D. The parent class method and child class method are executed in sequence."
      ]
    },
    {
      "cell_type": "code",
      "execution_count": null,
      "metadata": {
        "id": "v3eZCq3LPbbO"
      },
      "outputs": [],
      "source": [
        "def ans_q5():\n",
        "  return 'B'"
      ]
    },
    {
      "cell_type": "markdown",
      "metadata": {
        "id": "maAuZp9H53r7"
      },
      "source": [
        "# Programming Questions:"
      ]
    },
    {
      "cell_type": "markdown",
      "metadata": {
        "id": "__5qAkQf57t1"
      },
      "source": [
        "INSTRUCTIONS: Write function, class or method definition(s) as described. If a template is provided, insert code or make changes only where specified. **Do not modify the names of the functions, methods or classes provided in the question or the template.**"
      ]
    },
    {
      "cell_type": "markdown",
      "metadata": {
        "id": "AYxMntIGgVRu"
      },
      "source": [
        "Q6. Create a Python class called `Calculator` with the following methods:\n",
        "   - `add(a, b)`: Returns the sum of two numbers.\n",
        "   - `subtract(a, b)`: Returns the difference between two numbers.\n",
        "   - `multiply(a, b)`: Returns the product of two numbers.\n",
        "   - `divide(a, b)`: Returns the result of dividing `a` by `b`. If `b` is 0, return `\"Cannot divide by zero\"`.\n",
        "\n",
        "Then, write a Python unit test using the `unittest` module to test the following scenarios (A template is provided for you below for the test class):\n",
        "   1. Test that `add(3, 5)` returns `8`.\n",
        "   2. Test that `subtract(10, 4)` returns `6`.\n",
        "   3. Test that `multiply(6, 7)` returns `42`.\n",
        "   4. Test that `divide(15, 3)` returns `5`.\n",
        "   5. Test that `divide(8, 0)` returns `\"Cannot divide by zero\"`.\n",
        "\n",
        "   > Note: Name your test functions `test_<function>` e.g., if you are testing the `add()` function, that corresponding test function should be called `test_add()`.\n"
      ]
    },
    {
      "cell_type": "code",
      "execution_count": 1,
      "metadata": {
        "id": "rtcPYCRnxEJF"
      },
      "outputs": [],
      "source": [
        "# Write the code for the Calculator class here\n",
        "class Calculator:\n",
        "  # Your code here\n",
        "  def __init__(self, a, b):\n",
        "    self.a = a\n",
        "    self.b = b\n",
        "  \n",
        "  def add(self):\n",
        "    # Your code here\n",
        "    return self.a + self.b\n",
        "\n",
        "  def subtract(self):\n",
        "    # Your code here\n",
        "    return self.a - self.b\n",
        "\n",
        "  def multiply(self):\n",
        "    # Your code here\n",
        "    return self.a * self.b\n",
        "\n",
        "  def divide(self):\n",
        "    # Your code here\n",
        "    if self.b == 0:\n",
        "      return \"Cannot divide by zero\"\n",
        "    return self.a / self.b"
      ]
    },
    {
      "cell_type": "code",
      "execution_count": 23,
      "metadata": {
        "id": "ledOQ8SqwmSq"
      },
      "outputs": [
        {
          "name": "stderr",
          "output_type": "stream",
          "text": [
            "test_add (__main__.TestCalculator.test_add) ... ok\n",
            "test_divison (__main__.TestCalculator.test_divison) ... ok\n",
            "test_multiplication (__main__.TestCalculator.test_multiplication) ... ok\n",
            "test_subtract (__main__.TestCalculator.test_subtract) ... ok\n",
            "\n",
            "----------------------------------------------------------------------\n",
            "Ran 4 tests in 0.002s\n",
            "\n",
            "OK\n"
          ]
        }
      ],
      "source": [
        "import unittest\n",
        "# Unit test class for Calculator\n",
        "class TestCalculator(unittest.TestCase):\n",
        "\n",
        "    # Setup method to initialize the Calculator object before each test\n",
        "    def setUp(self):\n",
        "        self.calc_add = Calculator(3,5)\n",
        "        self.calc_subtract = Calculator(10,4)\n",
        "        self.calc_multiply = Calculator(6,7)\n",
        "        self.calc_divide = Calculator(15,3)\n",
        "        self.calc_divide1 = Calculator(8,0)\n",
        "    # Test addition\n",
        "    def test_add(self):\n",
        "        self.assertEqual(self.calc_add.add(), 8, \"Addition test failed\")\n",
        "    # Test subtraction\n",
        "    def test_subtract(self):\n",
        "        self.assertEqual(self.calc_subtract.subtract(),6, \"Subtraction test failed\")\n",
        "    # Test multiplication\n",
        "    def test_multiplication(self):\n",
        "        self.assertEqual(self.calc_multiply.multiply(), 42, \"Multiplication test failed\")\n",
        "    # Test division\n",
        "    def test_divison(self):\n",
        "        self.assertEqual(self.calc_divide.divide(), 5, \"Division test failed\")\n",
        "        self.assertEqual(self.calc_divide1.divide(), \"Cannot divide by zero\", \"Division test failed\")\n",
        "\n",
        "if __name__ == '__main__':\n",
        "   unittest.main(argv=[''], verbosity=2, exit=False)\n"
      ]
    },
    {
      "cell_type": "code",
      "execution_count": null,
      "metadata": {
        "id": "T3lYzTH0fFN-"
      },
      "outputs": [],
      "source": [
        "## NOTE:\n",
        "# If your Unittest code doesn't work in Jupyter notebooks, you may need this:\n",
        "# if __name__ == '__main__':\n",
        "#    unittest.main(argv=[''], verbosity=2, exit=False)"
      ]
    },
    {
      "cell_type": "markdown",
      "metadata": {
        "id": "FE5Hzohog1bg"
      },
      "source": [
        "\n",
        "Q7. Write class definitons for three different types of vehicles each as a subclass of **Vehicle**. Each vehicle type has a passenger capacity and a speed. They all share the common functionality of calculating travel time for a given distance.\n",
        "\n",
        "Car: Can carry 5 passengers, with a speed of 120 km/h.\n",
        "\n",
        "Bus: Can carry 50 passengers, with a speed of 80 km/h.\n",
        "\n",
        "Truck: Can carry 2000 kg of cargo, with a speed of 60 km/h.\n",
        "\n"
      ]
    },
    {
      "cell_type": "code",
      "execution_count": 32,
      "metadata": {
        "id": "Za-CrBsRhOtx"
      },
      "outputs": [],
      "source": [
        "# Base class Vehicle\n",
        "class Vehicle:\n",
        "    def __init__(self, speed):\n",
        "        self.speed = speed\n",
        "\n",
        "    def travel_time(self, distance):\n",
        "        if distance < 0:\n",
        "            raise ValueError(\"Distance cannot be negative\")\n",
        "        return distance / self.speed\n",
        "\n",
        "# Subclass Car\n",
        "class Car(Vehicle):\n",
        "   #put your code here\n",
        "   def __init__(self, speed=120, num_passengers=5):\n",
        "     super().__init__(speed)\n",
        "     self.num_passengers = num_passengers\n",
        "\n",
        "# Subclass Bus\n",
        "class Bus(Vehicle):\n",
        "  #put your code here\n",
        "  def __init__(self, speed=80, num_passengers=50):\n",
        "    super().__init__(speed)\n",
        "    self.num_passengers = num_passengers\n",
        "\n",
        "# Subclass Truck\n",
        "class Truck(Vehicle):\n",
        "  #put your code here\n",
        "  def __init__(self, speed=60, cargo=2000):\n",
        "    super().__init__(speed)\n",
        "    self.cargo = cargo\n",
        "\n",
        "# Polymorphic function to get travel information\n",
        "def get_travel_info(vehicle, distance):\n",
        "  #put your code here\n",
        "  if vehicle.__class__.__name__ == \"Truck\":\n",
        "    print(f\"{vehicle.__class__.__name__} can carry {vehicle.cargo} kg of cargo.\")\n",
        "  else:\n",
        "    print(f\"{vehicle.__class__.__name__} can carry {vehicle.num_passengers} passengers.\")\n",
        "  if distance <0:\n",
        "    print(\"Distance cannot be negative\")\n",
        "  else:\n",
        "    print(f\"Travel time for {distance} km is {vehicle.travel_time(distance):.2f} hours.\")"
      ]
    },
    {
      "cell_type": "code",
      "execution_count": 33,
      "metadata": {
        "id": "r2jvaJ5-a_e_"
      },
      "outputs": [
        {
          "name": "stdout",
          "output_type": "stream",
          "text": [
            "Vehicle type: Car\n",
            "Car can carry 5 passengers.\n",
            "Travel time for 100 km is 0.83 hours.\n",
            "\n",
            "Vehicle type: Bus\n",
            "Bus can carry 50 passengers.\n",
            "Travel time for 100 km is 1.25 hours.\n",
            "\n",
            "Vehicle type: Truck\n",
            "Truck can carry 2000 kg of cargo.\n",
            "Travel time for 100 km is 1.67 hours.\n",
            "\n",
            "Testing with a negative distance:\n",
            "Car can carry 5 passengers.\n",
            "Distance cannot be negative\n"
          ]
        }
      ],
      "source": [
        "# Testing the system\n",
        "if __name__ == \"__main__\":\n",
        "    # Creating objects of each type\n",
        "    car = Car()\n",
        "    bus = Bus()\n",
        "    truck = Truck()\n",
        "\n",
        "    # Demonstrating polymorphism\n",
        "    vehicles = [car, bus, truck]\n",
        "\n",
        "    for v in vehicles:\n",
        "        print(f\"Vehicle type: {v.__class__.__name__}\")\n",
        "        get_travel_info(v, 100)\n",
        "        print()\n",
        "\n",
        "    # Testing error handling with a negative distance\n",
        "    print(\"Testing with a negative distance:\")\n",
        "    get_travel_info(car, -100)"
      ]
    },
    {
      "cell_type": "code",
      "execution_count": null,
      "metadata": {
        "id": "lmBpHZosbAqA"
      },
      "outputs": [],
      "source": [
        "#Expected_Output\n",
        "Vehicle type: Car\n",
        "Car can carry 5 passengers.\n",
        "Travel time for 100 km is 0.83 hours.\n",
        "\n",
        "Vehicle type: Bus\n",
        "Bus can carry 50 passengers.\n",
        "Travel time for 100 km is 1.25 hours.\n",
        "\n",
        "Vehicle type: Truck\n",
        "Truck can carry 2000 kg of cargo.\n",
        "Travel time for 100 km is 1.67 hours.\n",
        "\n",
        "Testing with a negative distance:\n",
        "Car can carry 5 passengers.\n",
        "Error: Distance cannot be negative"
      ]
    },
    {
      "cell_type": "code",
      "execution_count": null,
      "metadata": {
        "id": "MsBpkmXOft1v"
      },
      "outputs": [],
      "source": [
        "# Write your code here"
      ]
    }
  ],
  "metadata": {
    "colab": {
      "provenance": []
    },
    "kernelspec": {
      "display_name": "Python 3",
      "name": "python3"
    },
    "language_info": {
      "codemirror_mode": {
        "name": "ipython",
        "version": 3
      },
      "file_extension": ".py",
      "mimetype": "text/x-python",
      "name": "python",
      "nbconvert_exporter": "python",
      "pygments_lexer": "ipython3",
      "version": "3.11.9"
    }
  },
  "nbformat": 4,
  "nbformat_minor": 0
}
